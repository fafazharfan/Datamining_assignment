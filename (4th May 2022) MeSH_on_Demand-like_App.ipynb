{
 "cells": [
  {
   "cell_type": "code",
   "execution_count": 1,
   "metadata": {},
   "outputs": [],
   "source": [
    "import re\n",
    "import string\n",
    "import requests\n",
    "import numpy as np\n",
    "import pandas as pd\n",
    "from bs4 import BeautifulSoup\n",
    "from sklearn.feature_extraction.text import TfidfVectorizer\n",
    "\n",
    "def getdocs():\n",
    "  r = requests.get('https://www.kompas.com/')\n",
    "  soup = BeautifulSoup(r.content, 'html.parser')\n",
    "\n",
    "  link = []\n",
    "  for i in soup.find('div', {'class': 'most__wrap'}).find_all('a'):\n",
    "      i['href'] = i['href'] + '?page=all'\n",
    "      link.append(i['href'])\n",
    "\n",
    "# Getting the paragraphs\n",
    "  doc = []\n",
    "  for i in link:\n",
    "      r = requests.get(i)\n",
    "      soup = BeautifulSoup(r.content, 'html.parser')\n",
    "\n",
    "      sen = []\n",
    "      for i in soup.find('div', {'class': 'read__content'}).find_all('p'):\n",
    "          sen.append(i.text)\n",
    "      doc.append(' '.join(sen))\n",
    "\n",
    "  # Cleaning up paragraphs\n",
    "  doc_clean = []\n",
    "  for d in doc:\n",
    "      doc_test = re.sub(r'[^\\x00-\\x7F]+', ' ', d)\n",
    "      doc_test = re.sub(r'@\\w+', '', doc_test)\n",
    "      doc_test = doc_test.lower()\n",
    "      doc_test = re.sub(r'[%s]' % re.escape(string.punctuation), ' ', doc_test)\n",
    "      doc_test = re.sub(r'[0-9]', '', doc_test)\n",
    "      doc_test = re.sub(r'\\s{2,}', ' ', doc_test)\n",
    "      doc_clean.append(doc_test)\n",
    "\n",
    "  return doc_clean"
   ]
  },
  {
   "cell_type": "code",
   "execution_count": 2,
   "metadata": {},
   "outputs": [],
   "source": [
    "docs = getdocs()\n",
    "\n",
    "# TF-IDF weighting\n",
    "vectorizer = TfidfVectorizer()\n",
    "X = vectorizer.fit_transform(docs)\n",
    "\n",
    "# Creating dataFrame\n",
    "df = pd.DataFrame(X.T.toarray(), index=vectorizer.get_feature_names())"
   ]
  },
  {
   "cell_type": "code",
   "execution_count": 3,
   "metadata": {},
   "outputs": [
    {
     "name": "stdout",
     "output_type": "stream",
     "text": [
      "Search term: covid-19\n",
      "Similar Article (Cosine sim. Value):  0.04706576099036292\n",
      "kompas com bupati bogor ade munawaroh yasin atau ade yasin ditangkap komisi pemberantasan korupsi kpk dalam operasi tangkap tangan ott operasi tangkap tangan dilakukan sejak selasa malam hingga rabu pagi selain ade yasin kpk juga mengamankan beberapa pihak dari badan pemeriksa keuangan bpk perwakilan jawa barat serta menyita sejumlah uang ironisnya dua hari sebelum ditangkap kpk ade yasin sempat mengeluarkan surat edaran tentang pencegahan korupsi dan pengendalian gratifikasi terkait hari raya baca juga ott bupati bogor ade yasin wabup saya takut salah kalau komentar lewat se tersebut ade melarang pejabat aparatur sipil negara asn pimpinan dan karyawan bumd meminta memberi dan menerima gratifikasi yang berhubungan dengan jabatan atau kewenangannya yang dikaitkan dengan hari raya atau pandemi covid wajib menjadi teladan yang baik bagi masyarakat dengan tidak melakukan permintaan pemberian dan penerimaan gratifikasi yang berhubungan dengan jabatan dan berlawanan dengan kewajiban atau tugasnya kata ade yasin senin permintaan dana atau hadiah sebagai thr atau dengan sebutan lain oleh pejabat dan asn atau karyawan bumd baik secara individu maupun mengatasnamakan institusi kepada masyarakat perusahaan secara tertulis maupun tidak tertulis merupakan perbuatan yang dilarang dan dapat berimplikasi pada tindak pidana korupsi urainya baca juga ditangkap kpk ini hal soal bupati bogor ade yasin tahun jadi pengacara hingga sang kakak juga korupsi saat ini kpk masih memeriksa pihak pihak yang ditangkap perkembangan terkait kasus dugaan suap ini akan disampaikan dalam waktu x jam artikel ini telah tayang di tribunnews com dengan judul hari sebelum ditangkap bupati bogor ade yasin larang jajarannya terima gratifikasi\n",
      "\n",
      "Similar Article (Cosine sim. Value):  0.027104811408480315\n",
      " kompas com bupati bogor ade yasin tertangkap tangan tim komisi pemberantasan korupsi kpk operasi tangkap tangan ott kpk itu dilakukan sejak tanggal sampai april selain ade kpk juga mengamankan sejumlah pihak dari badan pemeriksa keuangan bpk perwakilan jawa barat kpk menjelaskan penangkapan bupati ade yasin itu terkait dugaan kasus suap berikut ini fakta lengkapnya dalam ott bupati ade yasin kpk mengamankan sejumlah barang bukti termasuk uang benar kpk telah mengamankan beberapa pihak dan sejumlah uang serta barang bukti lainnya kata wakil ketua kpk nurul ghufron rabu bupati ade yasin dan beberapa pihak yang diamankan segera menjalani pemeriksaan baca juga ditangkap kpk bupati bogor ade yasin miliki harta kekayaan rp miliar sementara itu penangkapan itu diduga terkait dugaan suap namun demikian kpk masih mendalami kasus tersebut dan belum mengungkapkan detail penyuapan setelah selesai nanti akan kami sampaikan detail kasusnya ucap dia senada pelaksana tugas juru bicara kpk ali fikri juga menjelaskan penangkapan bupati ade yasin dan beberapa pihak dari badan pemeriksaan keuangan bpk perwaklian jawa barat adalah terkait suap kegiatan tangkap tangan ini dilakukan karena ada dugaan tindak pidana korupsi pemberian dan penerimaan suap ucap ali baca juga kpk sita tanah dan bangunan senilai rp triliun di seram bagian barat tribun jabar gani kurniawan ilustrasi kpk bupati ade yasin yang memiliki nama lengkap ade munawaroh yasin sh mh adalah adik kandung dari mantan bupati bogor rachmat yasin rachmat menjabat sebagai bupati bogor sejak desember ade yasin terpilih sebagai bupati bogor pada pemilihan kepala daerah kabupaten bogor bersama calon wakil bupati iwan setiawan saat itu pasangan ade iwan didukung oleh tiga partai politik yakni ppp pkb dan partai gerindra mereka mendapat nomor urut ade yasin terpilih sebagai bupati bogor dengan suara terbanyak berjumlah suara atau persen mengalahkan empat pasangan calon lainnya bupati bogor ade yasin melarang jajarannya menerima segala bentuk gratifikasi hari raya atau alasan penanganan covid dilansir dari tribunnewsbogor com sebelum terkena ott kpk bupati ade sempat melarang jajarannya menerima gratifikasi terkait hari raya instruksi bupati ade yasin itu dikeluarkan melalui surat edaran tentang pencegahan korupsi dan pengendalian gratifikasi terkait hari raya wajib menjadi teladan yang baik bagi masyarakat dengan tidak melakukan permintaan pemberian dan penerimaan gratifikasi yang berhubungan dengan jabatan dan berlawanan dengan kewajiban atau tugasnya kata ade yasin senin dia menjelaskan hal ini dikaitkan dengan ketentuan pasal b dan pasal c undang undang nomor tahun tentang perubahan atas undang undang nomor tahun tentang pemberantasan tindak pidana korupsi david oliver purba rachmawati artikel ini telah tayang di tribunnewsbogor com dengan judul terjaring ott kpk bupati bogor ade yasin sempat dikunjungi sosok ini luar biasa abang kita\n",
      "\n"
     ]
    }
   ],
   "source": [
    "def getArticles(q, df):\n",
    "  print(\"Search term:\", q)\n",
    "  q = [q]\n",
    "  q_vec = vectorizer.transform(q).toarray().reshape(df.shape[0],)\n",
    "  sim = {}\n",
    "  for i in range(10):\n",
    "    sim[i] = np.dot(df.loc[:, i].values, q_vec) / np.linalg.norm(df.loc[:, i]) * np.linalg.norm(q_vec)\n",
    "  \n",
    "  sim_sorted = sorted(sim.items(), key=lambda x: x[1], reverse=True)\n",
    "  \n",
    "  for k, v in sim_sorted:\n",
    "    if v != 0.0:\n",
    "      print(\"Similar Article (Cosine sim. Value): \", v)\n",
    "      print(docs[k])\n",
    "      print()\n",
    "\n",
    "terms = 'covid-19'\n",
    "\n",
    "getArticles(terms, df)"
   ]
  }
 ],
 "metadata": {
  "interpreter": {
   "hash": "83f6cdf9470b114296e52d346f7b50f791a88363785bd2ab51f2a7e32ea98c5a"
  },
  "kernelspec": {
   "display_name": "Python 3.9.2 64-bit",
   "language": "python",
   "name": "python3"
  },
  "language_info": {
   "codemirror_mode": {
    "name": "ipython",
    "version": 3
   },
   "file_extension": ".py",
   "mimetype": "text/x-python",
   "name": "python",
   "nbconvert_exporter": "python",
   "pygments_lexer": "ipython3",
   "version": "3.9.2"
  },
  "orig_nbformat": 4
 },
 "nbformat": 4,
 "nbformat_minor": 2
}
